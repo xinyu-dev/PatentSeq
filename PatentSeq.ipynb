{
 "cells" : [
  {
   "cell_type" : "markdown",
   "source" : [
    "# PatentSeq"
   ],
   "metadata" : {
    "collapsed" : false,
    "pycharm" : {
     "name" : "#%% md\n"
    }
   }
  },
  {
   "cell_type" : "markdown",
   "source" : [
    "# Background & Description\n",
    "\n",
    "An easy-to-use script that converts **image-based protein sequences** in patents to 3-letter coded or 1-letter coded **fasta** format.\n",
    "\n",
    "A large portion of sequences provided in pdf patents are embedded as images, or in an user-unfriendly format difficult for copying/paste. It generally requires much manual work to convert these seqs into fasta. With this script, you can simply take a snapshot of any protein sequences from patents, run it and get your sequence in 3-letter coded and 1-letter coded **fasta** format."
   ],
   "metadata" : {
    "collapsed" : false,
    "pycharm" : {
     "name" : "#%% md\n"
    }
   }
  },
  {
   "cell_type" : "markdown",
   "source" : [
    "# Dependencies\n",
    "\n",
    "Install the following modules before running the script:\n",
    "1. Pillow\n",
    "2. Pytesseract\n",
    "3. Biopython\n"
   ],
   "metadata" : {
    "collapsed" : false,
    "pycharm" : {
     "name" : "#%% md\n"
    }
   }
  },
  {
   "cell_type" : "markdown",
   "source" : [
    "# Increase Accuracy of Tesseract\n",
    "\n",
    "## Train using your font\n",
    "To increase accuracy of tesseract, try training it using your font file. Follow these simple steps to perform basic training:\n",
    "\n",
    "1. Go to [trainyourtesseract](http://trainyourtesseract.com/) website, submit font file in OTF or TFF\n",
    "2. Once you receive a `traineddata` file, drag it to the `tessdata` folder.\n",
    "\n",
    "  An example of `traineddata` for \"courier\" font is provided here.\n",
    "  \n",
    "3. To verify that you placed the `traineddata` in the right place, in Terminal, type:\n",
    "```\n",
    "tesseract   --list-langs\n",
    "```\n",
    "   You should be able to see your new file there.\n",
    "\n",
    "4. In python script, invoke the new font with:\n",
    "```python\n",
    "pyt.image_to_string(img, lang=\"font\") #single font\n",
    "pyt.image_to_string(img, lang=\"font1+font2\") #mulitple fonts\n",
    "```\n",
    "\n",
    "## Adjust Image-Processing Parameters\n",
    "1. apply thresholds\n",
    "2. adjust image size"
   ],
   "metadata" : {
    "collapsed" : false,
    "pycharm" : {
     "name" : "#%% md\n"
    }
   }
  },
  {
   "cell_type" : "markdown",
   "source" : [
    "# Examples of Usage\n",
    "Example sequence can be found in the images folder. For details see Jupyter Notebook\n",
    "\n",
    "*Source:*\n",
    "- *Example 1: Patent US20170114146A1, Seq #29*\n",
    "- *Example 2: Patent US20190183931A1, Seq #21*"
   ],
   "metadata" : {
    "collapsed" : false,
    "pycharm" : {
     "name" : "#%% md\n"
    }
   }
  },
  {
   "cell_type" : "markdown",
   "source" : [
    "# Code"
   ],
   "metadata" : {
    "collapsed" : false,
    "pycharm" : {
     "name" : "#%% md\n"
    }
   }
  },
  {
   "cell_type" : "code",
   "execution_count" : 9,
   "metadata" : {
    "collapsed" : true,
    "pycharm" : {
     "is_executing" : false,
     "name" : "#%%\n"
    }
   },
   "outputs" : [ ],
   "source" : [
    "from PIL import Image\n",
    "from IPython.display import display\n",
    "import pytesseract as pyt\n",
    "import Bio.SeqUtils as su\n",
    "\n",
    "\n",
    "\n",
    "def PatentSeq(image):\n",
    "    \"\"\"\n",
    "    takes an image file and parse it with pyTesseract\n",
    "    :param image\n",
    "            an image file\n",
    "    :return: tuple\n",
    "            A tuple of sequences from image: (sequence as string, 1-letter coded, 3-letter coded)\n",
    "    \"\"\"\n",
    "    image=Image.open(image)\n",
    "    image=image.resize((int(image.size[0]*1.5), int(image.size[1]*1.5)))\n",
    "    thresh = 190\n",
    "    fn = lambda x : 255 if x > thresh else 0\n",
    "    image = image.convert('L').point(fn, mode='1')\n",
    "\n",
    "    display(image)\n",
    "    seq_str=pyt.image_to_string(image, config=\"-c preserve_interword_spaces=1 --psm 6 --oem 1\",\n",
    "                                lang=\"courier+eng\")\n",
    "\n",
    "    lst=[]\n",
    "    for i in seq_str.split():\n",
    "        if i.isalpha():\n",
    "            lst.append(i)\n",
    "\n",
    "    seq3=\"\".join(lst)\n",
    "    seq1=su.seq1(seq3)\n",
    "\n",
    "\n",
    "    if \"X\" in seq1 and \"X\" in seq3:\n",
    "        print(\"***************************************************************\")\n",
    "        print(\"*       Unable to resolve one or more residues                *\")\n",
    "        print(\"***************************************************************\")\n",
    "        seq_str=\"\"\n",
    "        seq1, seq3=[], []\n",
    "    elif \"X\" in seq1:\n",
    "        print(\"***************************************************************\")\n",
    "        print(\"*     WARNING! Ambiguous residue X found in 1-letter code     *\")\n",
    "        print(\"***************************************************************\")\n",
    "        seq1, seq3=[], []\n",
    "    else:\n",
    "        print(\"***************************************************************\")\n",
    "        print(\"*            Result (double check to verify)                  *\")\n",
    "        print(\"***************************************************************\")\n",
    "\n",
    "    return (seq_str, seq1, seq3)\n"
   ]
  },
  {
   "cell_type" : "code",
   "execution_count" : 10,
   "outputs" : [
    {
     "data" : {
      "text/plain" : "<PIL.Image.Image image mode=1 size=2541x1548 at 0x12581BC50>",
      "image/png" : "[encoded data removed]"
     },
     "metadata" : { },
     "output_type" : "display_data"
    },
    {
     "name" : "stdout",
     "text" : [
      "***************************************************************\n",
      "*            Result (double check to verify)                  *\n",
      "***************************************************************\n",
      ">Seq shown in string \n",
      "Asp Ile Gln Leu Thr Gln Ser Pro Ser Thr Leu Ser Ala Ser Val Gly\n",
      "1               5                   10                  15\n",
      "Asp Arg Val Thr Ile Thr Cys Arg Ala Ser Glu Ser Leu Asp Asn Tyr\n",
      "20                 25                 30\n",
      "Gly Ile Arg Phe Leu Thr Trp Phe Gln Gln Lys Pro Gly Lys Ala Pro\n",
      "35                 40                 45\n",
      "Lys Leu Leu Met Tyr Ala Ala Ser Asn Gln Gly Ser Gly Val Pro Ser\n",
      "50                 55                 60\n",
      "Arg Phe Ser Gly Ser Gly Ser Gly Thr Glu Phe Thr Leu Thr Ile Ser\n",
      "65                 70                 75                 80\n",
      "Ser Leu Gln Pro Asp Asp Phe Ala Thr Tyr Tyr Cys Gln Gln Thr Lys\n",
      "85                  90                  95\n",
      "Glu Val Pro Trp Ser Phe Gly Gln Gly Thr Lys Val Glu Val Lys\n",
      "100                 105                 110\n",
      "\n",
      ">Seq in 1-letter code\n",
      "DIQLTQSPSTLSASVGDRVTITCRASESLDNYGIRFLTWFQQKPGKAPKLLMYAASNQGSGVPSRFSGSGSGTEFTLTISSLQPDDFATYYCQQTKEVPWSFGQGTKVEVK\n",
      "\n",
      ">Seq in 3-letter code\n",
      "AspIleGlnLeuThrGlnSerProSerThrLeuSerAlaSerValGlyAspArgValThrIleThrCysArgAlaSerGluSerLeuAspAsnTyrGlyIleArgPheLeuThrTrpPheGlnGlnLysProGlyLysAlaProLysLeuLeuMetTyrAlaAlaSerAsnGlnGlySerGlyValProSerArgPheSerGlySerGlySerGlyThrGluPheThrLeuThrIleSerSerLeuGlnProAspAspPheAlaThrTyrTyrCysGlnGlnThrLysGluValProTrpSerPheGlyGlnGlyThrLysValGluValLys\n"
     ],
     "output_type" : "stream"
    }
   ],
   "source" : [
    "result=PatentSeq(\"Example_Seq1.png\")\n",
    "\n",
    "print(\">Seq shown in string \")\n",
    "print(result[0])\n",
    "print(\"\\n>Seq in 1-letter code\")\n",
    "print(result[1])\n",
    "print(\"\\n>Seq in 3-letter code\")\n",
    "print(result[2])\n"
   ],
   "metadata" : {
    "collapsed" : false,
    "pycharm" : {
     "name" : "#%%\n",
     "is_executing" : false
    }
   }
  },
  {
   "cell_type" : "code",
   "execution_count" : 10,
   "outputs" : [ ],
   "source" : [ ],
   "metadata" : {
    "collapsed" : false,
    "pycharm" : {
     "name" : "#%%\n",
     "is_executing" : false
    }
   }
  },
  {
   "cell_type" : "code",
   "execution_count" : 10,
   "outputs" : [ ],
   "source" : [
    "\n"
   ],
   "metadata" : {
    "collapsed" : false,
    "pycharm" : {
     "name" : "#%%\n",
     "is_executing" : false
    }
   }
  }
 ],
 "metadata" : {
  "kernelspec" : {
   "name" : "pycharm-4ec6eeba",
   "language" : "python",
   "display_name" : "PyCharm (pyrosetta)"
  },
  "language_info" : {
   "codemirror_mode" : {
    "name" : "ipython",
    "version" : 2
   },
   "file_extension" : ".py",
   "mimetype" : "text/x-python",
   "name" : "python",
   "nbconvert_exporter" : "python",
   "pygments_lexer" : "ipython2",
   "version" : "2.7.6"
  },
  "pycharm" : {
   "stem_cell" : {
    "cell_type" : "raw",
    "source" : [ ],
    "metadata" : {
     "collapsed" : false
    }
   }
  }
 },
 "nbformat" : 4,
 "nbformat_minor" : 0
}